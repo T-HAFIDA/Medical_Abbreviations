{
  "nbformat": 4,
  "nbformat_minor": 0,
  "metadata": {
    "colab": {
      "provenance": [],
      "gpuType": "L4"
    },
    "kernelspec": {
      "name": "python3",
      "display_name": "Python 3"
    },
    "language_info": {
      "name": "python"
    },
    "accelerator": "GPU"
  },
  "cells": [
    {
      "cell_type": "markdown",
      "source": [
        "RAM du système\n",
        "13.4 / 53.0 GB\n",
        "\n",
        "RAM du GPU\n",
        "0.2 / 22.5 GB\n",
        "\n",
        "Disque\n",
        "42.1 / 112.6 GB"
      ],
      "metadata": {
        "id": "DmLIy1pMHwRo"
      }
    },
    {
      "cell_type": "code",
      "source": [
        "from google.colab import drive\n",
        "drive.mount('/content/drive')"
      ],
      "metadata": {
        "colab": {
          "base_uri": "https://localhost:8080/"
        },
        "id": "FTePGT4zPUO-",
        "outputId": "1d980872-e3ef-4005-d09b-212d3cae8555"
      },
      "execution_count": 2,
      "outputs": [
        {
          "output_type": "stream",
          "name": "stdout",
          "text": [
            "Drive already mounted at /content/drive; to attempt to forcibly remount, call drive.mount(\"/content/drive\", force_remount=True).\n"
          ]
        }
      ]
    },
    {
      "cell_type": "code",
      "source": [
        "import torch\n",
        "\n",
        "# Check if GPU is available\n",
        "if torch.cuda.is_available():\n",
        "    print(\"GPU is available\")\n",
        "    print(f\"GPU Name: {torch.cuda.get_device_name(0)}\")\n",
        "else:\n",
        "    print(\"GPU is not available\")\n"
      ],
      "metadata": {
        "colab": {
          "base_uri": "https://localhost:8080/"
        },
        "id": "KWlnGvrfRouU",
        "outputId": "a19a1156-f3ca-4025-ee1c-57d5e20dd8b8"
      },
      "execution_count": 1,
      "outputs": [
        {
          "output_type": "stream",
          "name": "stdout",
          "text": [
            "GPU is available\n",
            "GPU Name: NVIDIA L4\n"
          ]
        }
      ]
    },
    {
      "cell_type": "code",
      "source": [
        "import tensorflow as tf\n",
        "import joblib\n",
        "import time\n",
        "with tf.device('/GPU:0'):\n",
        "      start_time = time.time()\n",
        "      # Load the label encoder, TF-IDF vectorizer, and trained SVM model for CASI_ALL\n",
        "      label_encoder = joblib.load(\"/content/drive/MyDrive/Abreviation/CASI/label_encoder.pkl\")\n",
        "      vectorizer = joblib.load(\"/content/drive/MyDrive/Abreviation/CASI/vectorizer.pkl\")\n",
        "      svm_model = joblib.load(\"/content/drive/MyDrive/Abreviation/CASI_all models/hyperensemble_model1.pkl\")\n",
        "      # Load the label encoder, TF-IDF vectorizer, and trained SVM model CASI_13A\n",
        "      label_encoder13 = joblib.load(\"/content/drive/MyDrive/Abreviation/CASI/mini/label_encoder.pkl\")\n",
        "      vectorizer13 = joblib.load(\"/content/drive/MyDrive/Abreviation/CASI/mini/vectorizer.pkl\")\n",
        "      svm_model13 = joblib.load(\"/content/drive/MyDrive/Abreviation/CASI/mini/svm_model.pkl\")\n",
        "      end_time = time.time()\n",
        "      execution_time = (end_time - start_time) * 1000\n",
        "      print(f\"****************************************\")\n",
        "      print(f\"Loading Models Time: {execution_time:.2f} ms\\n\")\n",
        "      print(f\"****************************************\")\n",
        "      def predict_expansion(abbreviation, text):\n",
        "          start_time = time.time()\n",
        "          if abbreviation in {\"AMA\", \"ASA\", \"BAL\", \"BK\", \"C3\", \"CVA\", \"CVP\", \"CVS\", \"ER\", \"FISH\", \"NAD\", \"OTC\", \"SBP\"}:\n",
        "                input_text = f\"{abbreviation} {text}\"\n",
        "                text_vector = vectorizer13.transform([input_text])\n",
        "                predicted_label_encoded = svm_model13.predict(text_vector)[0]\n",
        "                predicted_expansion = label_encoder13.inverse_transform([predicted_label_encoded])[0]\n",
        "          else:\n",
        "                input_text = f\"{abbreviation} {text}\"\n",
        "                text_vector = vectorizer.transform([input_text])\n",
        "                predicted_label_encoded = svm_model.predict(text_vector)[0]\n",
        "                predicted_expansion = label_encoder.inverse_transform([predicted_label_encoded])[0]\n",
        "          # End timing\n",
        "          end_time = time.time()\n",
        "\n",
        "          # Calculate execution time in milliseconds\n",
        "          execution_time = (end_time - start_time) * 1000\n",
        "\n",
        "          return predicted_expansion, execution_time\n",
        "\n",
        "      # Example cases with abbreviations in real clinical contexts\n",
        "      examples = [\n",
        "          (\"PD\", \"The patient was diagnosed with PD, exhibiting symptoms of fluid retention and electrolyte imbalance\"),\n",
        "\n",
        "          (\"CVA\", \"The patient suffered from CVA, presenting with sudden weakness on one side of the body and difficulty speaking, leading to partial paralysis.\"),\n",
        "\n",
        "          (\"ASA\", \"The patient has been prescribed ASA as part of an anticoagulation therapy regimen .\"),\n",
        "\n",
        "          (\"OTC\", \"She purchased an OTC antihistamine medication to alleviate symptoms of seasonal allergies, including sneezing and nasal congestion.\"),\n",
        "\n",
        "          (\"SBP\", \"The SBP readings were consistently above 140 mmHg during multiple clinical assessments.\"),\n",
        "\n",
        "          (\"AMA\", \"Despite being advised on potential health risks, the patient chose to leave the hospital AMA, declining further monitoring and recommended treatment.\"),\n",
        "\n",
        "          (\"FISH\", \"A FISH test was performed on the patient's bone marrow sample to detect chromosomal abnormalities associated with leukemia and other genetic disorders.\"),\n",
        "\n",
        "          (\"SMA\",\"A Computed Tomography angiography was performed, revealing a significant stenosis in the SMA, leading to ischemic bowel symptoms, including severe abdominal pain and postprandial discomfort.\"),\n",
        "           (\"DT \",\"The patient, with a history of chronic alcohol use, was admitted with agitation, hallucinations, and autonomic instability, raising concerns for DT requiring benzodiazepine therapy and close monitoring in the Intensive Care Unit.\")\n",
        "      ]\n",
        "\n",
        "      # Iterate through the examples and predict expansions\n",
        "      for abbreviation, text in examples:\n",
        "          predicted_expansion, exec_time = predict_expansion(abbreviation, text)\n",
        "          print(f\"Abbreviation: {abbreviation}\")\n",
        "          print(f\"Context: {text}\")\n",
        "          print(f\"Predicted Expansion: {predicted_expansion}\")\n",
        "          print(f\"Execution Time: {exec_time:.2f} ms\\n\")\n",
        "\n"
      ],
      "metadata": {
        "colab": {
          "base_uri": "https://localhost:8080/"
        },
        "outputId": "00e15b24-9e46-4407-9064-d3d9550157f5",
        "id": "CNCAgXOohhDP"
      },
      "execution_count": 4,
      "outputs": [
        {
          "output_type": "stream",
          "name": "stderr",
          "text": [
            "/usr/local/lib/python3.11/dist-packages/sklearn/base.py:380: InconsistentVersionWarning: Trying to unpickle estimator LabelEncoder from version 1.5.2 when using version 1.6.1. This might lead to breaking code or invalid results. Use at your own risk. For more info please refer to:\n",
            "https://scikit-learn.org/stable/model_persistence.html#security-maintainability-limitations\n",
            "  warnings.warn(\n",
            "/usr/local/lib/python3.11/dist-packages/sklearn/base.py:380: InconsistentVersionWarning: Trying to unpickle estimator TfidfTransformer from version 1.5.2 when using version 1.6.1. This might lead to breaking code or invalid results. Use at your own risk. For more info please refer to:\n",
            "https://scikit-learn.org/stable/model_persistence.html#security-maintainability-limitations\n",
            "  warnings.warn(\n",
            "/usr/local/lib/python3.11/dist-packages/sklearn/base.py:380: InconsistentVersionWarning: Trying to unpickle estimator TfidfVectorizer from version 1.5.2 when using version 1.6.1. This might lead to breaking code or invalid results. Use at your own risk. For more info please refer to:\n",
            "https://scikit-learn.org/stable/model_persistence.html#security-maintainability-limitations\n",
            "  warnings.warn(\n",
            "/usr/local/lib/python3.11/dist-packages/sklearn/base.py:380: InconsistentVersionWarning: Trying to unpickle estimator SVC from version 1.5.2 when using version 1.6.1. This might lead to breaking code or invalid results. Use at your own risk. For more info please refer to:\n",
            "https://scikit-learn.org/stable/model_persistence.html#security-maintainability-limitations\n",
            "  warnings.warn(\n",
            "/usr/local/lib/python3.11/dist-packages/sklearn/base.py:380: InconsistentVersionWarning: Trying to unpickle estimator DecisionTreeClassifier from version 1.5.2 when using version 1.6.1. This might lead to breaking code or invalid results. Use at your own risk. For more info please refer to:\n",
            "https://scikit-learn.org/stable/model_persistence.html#security-maintainability-limitations\n",
            "  warnings.warn(\n",
            "/usr/local/lib/python3.11/dist-packages/sklearn/base.py:380: InconsistentVersionWarning: Trying to unpickle estimator RandomForestClassifier from version 1.5.2 when using version 1.6.1. This might lead to breaking code or invalid results. Use at your own risk. For more info please refer to:\n",
            "https://scikit-learn.org/stable/model_persistence.html#security-maintainability-limitations\n",
            "  warnings.warn(\n",
            "/usr/local/lib/python3.11/dist-packages/sklearn/base.py:380: InconsistentVersionWarning: Trying to unpickle estimator LogisticRegression from version 1.5.2 when using version 1.6.1. This might lead to breaking code or invalid results. Use at your own risk. For more info please refer to:\n",
            "https://scikit-learn.org/stable/model_persistence.html#security-maintainability-limitations\n",
            "  warnings.warn(\n",
            "/usr/local/lib/python3.11/dist-packages/sklearn/base.py:380: InconsistentVersionWarning: Trying to unpickle estimator VotingClassifier from version 1.5.2 when using version 1.6.1. This might lead to breaking code or invalid results. Use at your own risk. For more info please refer to:\n",
            "https://scikit-learn.org/stable/model_persistence.html#security-maintainability-limitations\n",
            "  warnings.warn(\n"
          ]
        },
        {
          "output_type": "stream",
          "name": "stdout",
          "text": [
            "****************************************\n",
            "Loading Models Time: 12254.14 ms\n",
            "\n",
            "****************************************\n",
            "Abbreviation: PD\n",
            "Context: The patient was diagnosed with PD, exhibiting symptoms of fluid retention and electrolyte imbalance\n",
            "Predicted Expansion: peritoneal dialysis\n",
            "Execution Time: 59.05 ms\n",
            "\n",
            "Abbreviation: CVA\n",
            "Context: The patient suffered from CVA, presenting with sudden weakness on one side of the body and difficulty speaking, leading to partial paralysis.\n",
            "Predicted Expansion: cerebrovascular accident\n",
            "Execution Time: 4.23 ms\n",
            "\n",
            "Abbreviation: ASA\n",
            "Context: The patient has been prescribed ASA as part of an anticoagulation therapy regimen .\n",
            "Predicted Expansion: acetylsalicylic acid\n",
            "Execution Time: 3.31 ms\n",
            "\n",
            "Abbreviation: OTC\n",
            "Context: She purchased an OTC antihistamine medication to alleviate symptoms of seasonal allergies, including sneezing and nasal congestion.\n",
            "Predicted Expansion: over the counter\n",
            "Execution Time: 3.00 ms\n",
            "\n",
            "Abbreviation: SBP\n",
            "Context: The SBP readings were consistently above 140 mmHg during multiple clinical assessments.\n",
            "Predicted Expansion: spontaneous bacterial peritonitis\n",
            "Execution Time: 2.90 ms\n",
            "\n",
            "Abbreviation: AMA\n",
            "Context: Despite being advised on potential health risks, the patient chose to leave the hospital AMA, declining further monitoring and recommended treatment.\n",
            "Predicted Expansion: against medical advice\n",
            "Execution Time: 3.37 ms\n",
            "\n",
            "Abbreviation: FISH\n",
            "Context: A FISH test was performed on the patient's bone marrow sample to detect chromosomal abnormalities associated with leukemia and other genetic disorders.\n",
            "Predicted Expansion: fluorescent in situ hybridization\n",
            "Execution Time: 3.31 ms\n",
            "\n",
            "Abbreviation: SMA\n",
            "Context: A Computed Tomography angiography was performed, revealing a significant stenosis in the SMA, leading to ischemic bowel symptoms, including severe abdominal pain and postprandial discomfort.\n",
            "Predicted Expansion: superior mesenteric artery\n",
            "Execution Time: 58.74 ms\n",
            "\n",
            "Abbreviation: DT \n",
            "Context: The patient, with a history of chronic alcohol use, was admitted with agitation, hallucinations, and autonomic instability, raising concerns for DT requiring benzodiazepine therapy and close monitoring in the Intensive Care Unit.\n",
            "Predicted Expansion: delirium tremens\n",
            "Execution Time: 61.23 ms\n",
            "\n"
          ]
        }
      ]
    }
  ]
}