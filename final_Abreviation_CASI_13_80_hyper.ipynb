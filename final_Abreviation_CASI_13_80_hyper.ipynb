{
  "cells": [
    {
      "cell_type": "code",
      "execution_count": null,
      "metadata": {
        "id": "VUPLnM7mIt0v",
        "colab": {
          "base_uri": "https://localhost:8080/"
        },
        "outputId": "af8a61d0-600e-4feb-decb-f2c83d6015f5"
      },
      "outputs": [
        {
          "output_type": "stream",
          "name": "stdout",
          "text": [
            "Mounted at /content/drive\n"
          ]
        }
      ],
      "source": [
        "from google.colab import drive\n",
        "drive.mount('/content/drive')"
      ]
    },
    {
      "cell_type": "code",
      "execution_count": null,
      "metadata": {
        "colab": {
          "base_uri": "https://localhost:8080/"
        },
        "id": "RzhXaGbilUqX",
        "outputId": "241f533c-4dc0-479a-e478-7a7143024d7a"
      },
      "outputs": [
        {
          "output_type": "stream",
          "name": "stdout",
          "text": [
            "       abr                                      long abr_text  start_abr  \\\n",
            "0       AB                                  abortion      AB.        231   \n",
            "1       AB                                  abortion      AB.        249   \n",
            "2       AB                                  abortion       AB        223   \n",
            "3       AB                                  abortion      AB.        194   \n",
            "4       AB                                  abortion       AB        114   \n",
            "...    ...                                       ...      ...        ...   \n",
            "37495  VAD  vincristine adriamycin and dexamethasone     VAD.        139   \n",
            "37496  VAD  vincristine adriamycin and dexamethasone     VAD,        172   \n",
            "37497  VAD  vincristine adriamycin and dexamethasone      VAD        250   \n",
            "37498  VAD  vincristine adriamycin and dexamethasone      VAD        181   \n",
            "37499  VAD  vincristine adriamycin and dexamethasone      VAD         60   \n",
            "\n",
            "       end_abr                         section  \\\n",
            "0          233                                   \n",
            "1          251                                   \n",
            "2          224                 PAST OB HISTORY   \n",
            "3          196  HISTORY OF THE PRESENT ILLNESS   \n",
            "4          115             PAST OB-GYN HISTORY   \n",
            "...        ...                             ...   \n",
            "37495      142            PAST MEDICAL HISTORY   \n",
            "37496      175                      IMPRESSION   \n",
            "37497      252      HISTORY OF PRESENT ILLNESS   \n",
            "37498      183      HISTORY OF PRESENT ILLNESS   \n",
            "37499       62                      PROCEDURES   \n",
            "\n",
            "                                                    text  \n",
            "0      _%#NAME#%_ _%#NAME#%_ is a 29-year-old gravida...  \n",
            "1      She is now bleeding quite heavily. Ultrasound ...  \n",
            "2      ALLERGIES: Heparin and Imitrex. PAST OB HISTOR...  \n",
            "3      She had a pelvic ultrasound at Park Nicollet o...  \n",
            "4      On _%#MMDD2007#%_, normal anatomy with anterio...  \n",
            "...                                                  ...  \n",
            "37495  1. Multiple myeloma, undergoing chemotherapy. ...  \n",
            "37496  He has been receiving weekly Procrit injection...  \n",
            "37497  Within a month, he developed recurrent hip pai...  \n",
            "37498  He had a serum protein electrophoresis with a ...  \n",
            "37499  DISCHARGE DIAGNOSES: Multiple myeloma. PROCEDU...  \n",
            "\n",
            "[37500 rows x 7 columns]\n"
          ]
        }
      ],
      "source": [
        "import pandas as pd\n",
        "import pandas as pd\n",
        "import re\n",
        "\n",
        "# Initialize an empty list to store data for the DataFrame\n",
        "data = []\n",
        "\n",
        "# Define the path to your text file\n",
        "file_path = '/content/drive/MyDrive/Abreviation/CASI/CASI.txt'\n",
        "\n",
        "# Read the file line by line\n",
        "with open(file_path, 'r',encoding='utf-8', errors='ignore') as file:\n",
        "  for line in file:\n",
        "    # Split the line by the '|' delimiter\n",
        "    parts = line.split('|')\n",
        "\n",
        "    # Extract elements based on the expected format\n",
        "    if len(parts) >= 7:  # Ensure the line has the expected number of fields\n",
        "        abr = parts[0]\n",
        "        long_form = parts[1]\n",
        "        abr_text = parts[2]\n",
        "        start_abr = int(parts[3])\n",
        "        end_abr = int(parts[4])\n",
        "        section = parts[5]  # May be empty if no section is specified\n",
        "        text = parts[6]\n",
        "\n",
        "        # Append the extracted fields to the data list as a dictionary\n",
        "        data.append({\n",
        "            'abr': abr,\n",
        "            'long': long_form,\n",
        "            'abr_text': abr_text,\n",
        "            'start_abr': start_abr,\n",
        "            'end_abr': end_abr,\n",
        "            'section': section,\n",
        "            'text': text\n",
        "        })\n",
        "\n",
        "# Convert the list of dictionaries to a DataFrame\n",
        "df = pd.DataFrame(data)\n",
        "\n",
        "# Display the resulting DataFrame\n",
        "print(df)\n"
      ]
    },
    {
      "cell_type": "code",
      "execution_count": null,
      "metadata": {
        "id": "iL_SAW1ElUqZ"
      },
      "outputs": [],
      "source": [
        "data=pd.DataFrame(df, columns=('abr','long','text'))"
      ]
    },
    {
      "cell_type": "code",
      "source": [
        "# Define the target abbreviations\n",
        "df=data\n",
        "abbreviations = [\"AMA\", \"ASA\", \"BAL\",\"BK\",\"C3\",\"CVA\",\"CVP\",\"CVS\",\"ER\",\"FISH\",\"NAD\",\"OTC\",\"SBP\"]\n",
        "\n",
        "# Filter rows containing any of the abbreviations\n",
        "filtered_df = df[df[\"abr\"].str.contains('|'.join(abbreviations), flags=re.IGNORECASE, na=False)]\n",
        "\n",
        "# Sample 500 rows from the filtered data\n",
        "#df_mini = filtered_df.sample(n=600, replace=False, random_state=1992)\n"
      ],
      "metadata": {
        "id": "JIi4buTkUHGJ"
      },
      "execution_count": null,
      "outputs": []
    },
    {
      "cell_type": "code",
      "source": [
        "# Check the distribution of abbreviations in the sampled data\n",
        "print(filtered_df['abr'].value_counts())\n"
      ],
      "metadata": {
        "colab": {
          "base_uri": "https://localhost:8080/"
        },
        "id": "uNO7luNVdzZb",
        "outputId": "80ac46d4-5dac-47f2-c9d1-a69b14cfde70"
      },
      "execution_count": null,
      "outputs": [
        {
          "output_type": "stream",
          "name": "stdout",
          "text": [
            "abr\n",
            "AMA     500\n",
            "ASA     500\n",
            "BAL     500\n",
            "BK      500\n",
            "C3      500\n",
            "CVA     500\n",
            "CVP     500\n",
            "CVS     500\n",
            "ER      500\n",
            "FISH    500\n",
            "NAD     500\n",
            "OTC     500\n",
            "SBP     500\n",
            "Name: count, dtype: int64\n"
          ]
        }
      ]
    },
    {
      "cell_type": "code",
      "source": [
        "import pandas as pd\n",
        "import matplotlib.pyplot as plt\n",
        "import seaborn as sns\n",
        "\n",
        "\n",
        "\n",
        "\n",
        "# Example: Tokenizing and calculating text lengths and token counts\n",
        "df_mini['text_length'] = df_mini['text'].apply(len)  # Character count\n",
        "df_mini['token_count'] = df_mini['text'].apply(lambda x: len(x.split()))  # Token count using NLTK's word_tokenize\n",
        "\n",
        "# Set up a figure with subplots for both distributions\n",
        "plt.figure(figsize=(10, 5))\n",
        "\n",
        "# Plotting the text length distribution (in characters)\n",
        "plt.subplot(1, 2, 1)  # First subplot\n",
        "sns.histplot(df['text_length'], bins=30, kde=True, color='darkorange', alpha=0.7, label='Text Length Distribution')\n",
        "plt.axvline(df['text_length'].mean(), color='blue', linestyle='--', linewidth=2, label='Mean Text Length')\n",
        "#plt.axvline(df['text_length'].median(), color='green', linestyle='-', linewidth=2, label='Median Text Length')\n",
        "plt.title('Text Length Distribution (Characters)', fontsize=16, fontweight='bold', color='darkblue')\n",
        "plt.xlabel('Text Length (Characters)', fontsize=13)\n",
        "plt.ylabel('Frequency', fontsize=13)\n",
        "plt.grid(visible=True, linestyle=':', color='gray', alpha=0.6)\n",
        "plt.legend(fontsize=12, loc='upper right')\n",
        "\n",
        "# Plotting the token count distribution\n",
        "plt.subplot(1, 2, 2)  # Second subplot\n",
        "sns.histplot(df['token_count'], bins=30, kde=True, color='darkgreen', alpha=0.7, label='Token Count Distribution')\n",
        "plt.axvline(df['token_count'].mean(), color='blue', linestyle='--', linewidth=2, label='Mean Token Count')\n",
        "#plt.axvline(df['token_count'].median(), color='green', linestyle='-', linewidth=2, label='Median Token Count')\n",
        "plt.title('Token Count Distribution', fontsize=16, fontweight='bold', color='darkblue')\n",
        "plt.xlabel('Number of Tokens', fontsize=13)\n",
        "plt.ylabel('Frequency', fontsize=13)\n",
        "plt.grid(visible=True, linestyle=':', color='gray', alpha=0.6)\n",
        "plt.legend(fontsize=12, loc='upper right')\n",
        "\n",
        "# Adjust layout to ensure there is no overlap\n",
        "plt.tight_layout()\n",
        "\n",
        "# Display the plots\n",
        "plt.show()\n"
      ],
      "metadata": {
        "colab": {
          "base_uri": "https://localhost:8080/",
          "height": 711
        },
        "id": "_hrh_gVGfBhA",
        "outputId": "a46e0bf8-40e4-4a17-ec8a-627733c7e83d"
      },
      "execution_count": null,
      "outputs": [
        {
          "output_type": "stream",
          "name": "stderr",
          "text": [
            "<ipython-input-67-7a1c6d889c31>:9: SettingWithCopyWarning: \n",
            "A value is trying to be set on a copy of a slice from a DataFrame.\n",
            "Try using .loc[row_indexer,col_indexer] = value instead\n",
            "\n",
            "See the caveats in the documentation: https://pandas.pydata.org/pandas-docs/stable/user_guide/indexing.html#returning-a-view-versus-a-copy\n",
            "  df_mini['text_length'] = df_mini['text'].apply(len)  # Character count\n",
            "<ipython-input-67-7a1c6d889c31>:10: SettingWithCopyWarning: \n",
            "A value is trying to be set on a copy of a slice from a DataFrame.\n",
            "Try using .loc[row_indexer,col_indexer] = value instead\n",
            "\n",
            "See the caveats in the documentation: https://pandas.pydata.org/pandas-docs/stable/user_guide/indexing.html#returning-a-view-versus-a-copy\n",
            "  df_mini['token_count'] = df_mini['text'].apply(lambda x: len(x.split()))  # Token count using NLTK's word_tokenize\n"
          ]
        },
        {
          "output_type": "display_data",
          "data": {
            "text/plain": [
              "<Figure size 1000x500 with 2 Axes>"
            ],
            "image/png": "[encoded data removed]"
          },
          "metadata": {}
        }
      ]
    },
    {
      "cell_type": "code",
      "source": [
        "X_train.to_csv('/content/drive/MyDrive/Abreviation/CASI/train_13.csv', index=False)\n",
        "X_test.to_csv('/content/drive/MyDrive/Abreviation/CASI/X_test_13.csv', index=False)\n",
        "y_train.to_csv('/content/drive/MyDrive/Abreviation/CASI/y_train_13.csv', index=False)\n",
        "y_test .to_csv('/content/drive/MyDrive/Abreviation/CASI/y_test_13.csv', index=False)"
      ],
      "metadata": {
        "id": "SfLvuvyha8e9"
      },
      "execution_count": null,
      "outputs": []
    },
    {
      "cell_type": "code",
      "source": [
        "data=filtered_df"
      ],
      "metadata": {
        "id": "9z294WtTePkm"
      },
      "execution_count": null,
      "outputs": []
    },
    {
      "cell_type": "code",
      "source": [
        "from sklearn.model_selection import train_test_split\n",
        "from sklearn.feature_extraction.text import TfidfVectorizer\n",
        "from sklearn.preprocessing import LabelEncoder\n",
        "from sklearn.svm import LinearSVC\n",
        "from sklearn.metrics import classification_report, accuracy_score, precision_score, recall_score, f1_score\n",
        "import numpy as np\n",
        "\n",
        "\n",
        "# Combine `abr` with `text` for better context\n",
        "data['text_with_abr'] = data['abr'] + \" \" + data['text']\n",
        "\n",
        "# Encode target labels\n",
        "label_encoder = LabelEncoder()\n",
        "data['long_encoded'] = label_encoder.fit_transform(data['long'])\n",
        "\n",
        "# Train-test split\n",
        "X_train, X_test, y_train, y_test = train_test_split(\n",
        "    data['text_with_abr'], data['long_encoded'], test_size=0.20, shuffle=True\n",
        ")\n",
        "print(X_train.shape)\n",
        "print(X_test.shape)\n",
        "# Vectorize the text\n",
        "vectorizer = TfidfVectorizer(max_features=5000)\n",
        "X_train_tfidf = vectorizer.fit_transform(X_train)\n",
        "X_test_tfidf = vectorizer.transform(X_test)\n"
      ],
      "metadata": {
        "colab": {
          "base_uri": "https://localhost:8080/"
        },
        "id": "rEImzsJzfInA",
        "outputId": "d73ea2ce-4e2f-46af-81f5-74e0c87eea3c"
      },
      "execution_count": null,
      "outputs": [
        {
          "output_type": "stream",
          "name": "stderr",
          "text": [
            "<ipython-input-39-27f984ccf416>:10: SettingWithCopyWarning: \n",
            "A value is trying to be set on a copy of a slice from a DataFrame.\n",
            "Try using .loc[row_indexer,col_indexer] = value instead\n",
            "\n",
            "See the caveats in the documentation: https://pandas.pydata.org/pandas-docs/stable/user_guide/indexing.html#returning-a-view-versus-a-copy\n",
            "  data['text_with_abr'] = data['abr'] + \" \" + data['text']\n",
            "<ipython-input-39-27f984ccf416>:14: SettingWithCopyWarning: \n",
            "A value is trying to be set on a copy of a slice from a DataFrame.\n",
            "Try using .loc[row_indexer,col_indexer] = value instead\n",
            "\n",
            "See the caveats in the documentation: https://pandas.pydata.org/pandas-docs/stable/user_guide/indexing.html#returning-a-view-versus-a-copy\n",
            "  data['long_encoded'] = label_encoder.fit_transform(data['long'])\n"
          ]
        },
        {
          "output_type": "stream",
          "name": "stdout",
          "text": [
            "(5200,)\n",
            "(1300,)\n"
          ]
        }
      ]
    },
    {
      "cell_type": "code",
      "source": [
        "import pandas as pd\n",
        "import joblib\n",
        "import numpy as np\n",
        "from sklearn.feature_extraction.text import TfidfVectorizer\n",
        "from sklearn.model_selection import train_test_split\n",
        "from sklearn.ensemble import RandomForestClassifier, VotingClassifier\n",
        "from sklearn.svm import SVC\n",
        "from sklearn.linear_model import LogisticRegression\n",
        "from sklearn.metrics import accuracy_score, precision_score, recall_score, f1_score\n",
        "save_dir = \"/content/drive/MyDrive/Abreviation/CASI/mini/\"  # Change to your preferred directory\n",
        "joblib.dump(label_encoder, \"/content/drive/MyDrive/Abreviation/CASI/mini/label_encoder.pkl\")\n",
        "# Save the TF-IDF vectorizer\n",
        "joblib.dump(vectorizer, \"/content/drive/MyDrive/Abreviation/CASI/mini/vectorizer.pkl\")\n",
        "# Function to manually tune hyperparameters\n",
        "\n",
        "\n",
        "# Hyperparameter grids\n",
        "svm_param_grid = {\n",
        "    'C': [0.1, 1, 10],\n",
        "    'kernel': ['linear', 'rbf'],\n",
        "    'probability': [True]\n",
        "}\n",
        "best_model = None\n",
        "best_score = 0\n",
        "best_params = None\n",
        "\n",
        "# Generate all combinations of hyperparameters\n",
        "from itertools import product\n",
        "param_combinations = list(product(*svm_param_grid.values()))\n",
        "model= SVC(random_state=42)\n",
        "for params in param_combinations:\n",
        "    # Set parameters for the model\n",
        "    param_dict = dict(zip(svm_param_grid.keys(), params))\n",
        "    model.set_params(**param_dict)\n",
        "\n",
        "    # Train and evaluate on the validation set\n",
        "    model.fit(X_train_tfidf, y_train)\n",
        "    y_valid_pred = model.predict(X_test_tfidf)\n",
        "    f1 = f1_score(y_test, y_valid_pred, average='micro', zero_division=0)\n",
        "    if f1 > best_score:\n",
        "        best_score = f1\n",
        "        best_model = model\n",
        "        best_params = param_dict\n",
        "print(f\"Best parameters for {model.__class__.__name__}: {best_params}, F1-Score: {best_score:.4f}\")\n",
        "joblib.dump(best_model, f\"{save_dir}svm_model.pkl\")\n",
        "svm=best_model"
      ],
      "metadata": {
        "id": "y-MExlo__x1T",
        "colab": {
          "base_uri": "https://localhost:8080/"
        },
        "outputId": "268a4e38-6cd0-49e6-b436-6d0deda944e1"
      },
      "execution_count": null,
      "outputs": [
        {
          "output_type": "stream",
          "name": "stdout",
          "text": [
            "Best parameters for SVC: {'C': 1, 'kernel': 'linear', 'probability': True}, F1-Score: 0.9769\n"
          ]
        }
      ]
    },
    {
      "cell_type": "code",
      "source": [
        "svm=best_model"
      ],
      "metadata": {
        "id": "JO44ph44R_76"
      },
      "execution_count": null,
      "outputs": []
    },
    {
      "cell_type": "code",
      "source": [
        "import pandas as pd\n",
        "import joblib\n",
        "import numpy as np\n",
        "from itertools import product\n",
        "from sklearn.feature_extraction.text import TfidfVectorizer\n",
        "from sklearn.model_selection import train_test_split\n",
        "from sklearn.ensemble import RandomForestClassifier, VotingClassifier\n",
        "from sklearn.svm import SVC\n",
        "from sklearn.linear_model import LogisticRegression\n",
        "from sklearn.metrics import accuracy_score, precision_score, recall_score, f1_score\n",
        "#save_dir = \"/content/drive/MyDrive/Abreviation/CASI/hyper\"\n",
        "best_model = None\n",
        "best_score = 0\n",
        "best_params = None\n",
        "rf_param_grid = {\n",
        "    'n_estimators': [100, 200, 300],\n",
        "    'max_depth': [None, 10, 20],\n",
        "    'min_samples_split': [2, 5],\n",
        "    'min_samples_leaf': [1, 2]\n",
        "}\n",
        "param_combinations = list(product(*rf_param_grid.values()))\n",
        "model= RandomForestClassifier(random_state=42)\n",
        "for params in param_combinations:\n",
        "    # Set parameters for the model\n",
        "    param_dict = dict(zip(rf_param_grid.keys(), params))\n",
        "    model.set_params(**param_dict)\n",
        "\n",
        "    # Train and evaluate on the validation set\n",
        "    model.fit(X_train_tfidf, y_train)\n",
        "    y_valid_pred = model.predict(X_test_tfidf)\n",
        "    f1 = f1_score(y_test, y_valid_pred, average='micro', zero_division=0)\n",
        "    print(params,'     f1-score',f1)\n",
        "    if f1 > best_score:\n",
        "        best_score = f1\n",
        "        best_model = model\n",
        "        best_params = param_dict\n",
        "\n",
        "print(f\"Best parameters for {model.__class__.__name__}: {best_params}, F1-Score: {best_score:.4f}\")\n",
        "joblib.dump(best_model, f\"{save_dir}rf_model.pkl\")\n",
        "rf=best_model\n"
      ],
      "metadata": {
        "id": "gqDFsJqbOd-_",
        "colab": {
          "base_uri": "https://localhost:8080/"
        },
        "outputId": "8c8a4b9d-2a7a-4e8d-e876-2ae8f428b522"
      },
      "execution_count": null,
      "outputs": [
        {
          "output_type": "stream",
          "name": "stdout",
          "text": [
            "(100, None, 2, 1)      f1-score 0.9538461538461539\n",
            "(100, None, 2, 2)      f1-score 0.9476923076923077\n",
            "(100, None, 5, 1)      f1-score 0.9546153846153846\n",
            "(100, None, 5, 2)      f1-score 0.9446153846153846\n",
            "(100, 10, 2, 1)      f1-score 0.9123076923076923\n",
            "(100, 10, 2, 2)      f1-score 0.9061538461538462\n",
            "(100, 10, 5, 1)      f1-score 0.9046153846153846\n",
            "(100, 10, 5, 2)      f1-score 0.9084615384615384\n",
            "(100, 20, 2, 1)      f1-score 0.9338461538461539\n",
            "(100, 20, 2, 2)      f1-score 0.9307692307692308\n",
            "(100, 20, 5, 1)      f1-score 0.93\n",
            "(100, 20, 5, 2)      f1-score 0.9276923076923077\n",
            "(200, None, 2, 1)      f1-score 0.9553846153846154\n",
            "(200, None, 2, 2)      f1-score 0.9461538461538461\n",
            "(200, None, 5, 1)      f1-score 0.9553846153846154\n",
            "(200, None, 5, 2)      f1-score 0.946923076923077\n",
            "(200, 10, 2, 1)      f1-score 0.9092307692307692\n",
            "(200, 10, 2, 2)      f1-score 0.9092307692307692\n",
            "(200, 10, 5, 1)      f1-score 0.9115384615384615\n",
            "(200, 10, 5, 2)      f1-score 0.9107692307692308\n",
            "(200, 20, 2, 1)      f1-score 0.9361538461538461\n",
            "(200, 20, 2, 2)      f1-score 0.9361538461538461\n",
            "(200, 20, 5, 1)      f1-score 0.9338461538461539\n",
            "(200, 20, 5, 2)      f1-score 0.9323076923076923\n",
            "(300, None, 2, 1)      f1-score 0.9546153846153846\n",
            "(300, None, 2, 2)      f1-score 0.9453846153846154\n",
            "(300, None, 5, 1)      f1-score 0.9561538461538461\n",
            "(300, None, 5, 2)      f1-score 0.9476923076923077\n",
            "(300, 10, 2, 1)      f1-score 0.9138461538461539\n",
            "(300, 10, 2, 2)      f1-score 0.9115384615384615\n",
            "(300, 10, 5, 1)      f1-score 0.9130769230769231\n",
            "(300, 10, 5, 2)      f1-score 0.9115384615384615\n",
            "(300, 20, 2, 1)      f1-score 0.9392307692307692\n",
            "(300, 20, 2, 2)      f1-score 0.9353846153846154\n",
            "(300, 20, 5, 1)      f1-score 0.9361538461538461\n",
            "(300, 20, 5, 2)      f1-score 0.933076923076923\n",
            "Best parameters for RandomForestClassifier: {'n_estimators': 300, 'max_depth': None, 'min_samples_split': 5, 'min_samples_leaf': 1}, F1-Score: 0.9562\n"
          ]
        }
      ]
    },
    {
      "cell_type": "code",
      "source": [
        "import pandas as pd\n",
        "import joblib\n",
        "import numpy as np\n",
        "from itertools import product\n",
        "from sklearn.feature_extraction.text import TfidfVectorizer\n",
        "from sklearn.model_selection import train_test_split\n",
        "from sklearn.ensemble import RandomForestClassifier, VotingClassifier\n",
        "from sklearn.svm import SVC\n",
        "from sklearn.linear_model import LogisticRegression\n",
        "from sklearn.metrics import accuracy_score, precision_score, recall_score, f1_score"
      ],
      "metadata": {
        "id": "Z7hgTG6kUPUF"
      },
      "execution_count": null,
      "outputs": []
    },
    {
      "cell_type": "code",
      "source": [
        "################# last\n",
        "best_model = None\n",
        "best_score = 0\n",
        "best_params = None\n",
        "lr_param_grid = {\n",
        "    'C': [0.1, 1, 10],\n",
        "    'penalty': ['l2'],\n",
        "    'solver': ['lbfgs', 'newton-cg']\n",
        "}\n",
        "param_combinations = list(product(*lr_param_grid.values()))\n",
        "model= LogisticRegression(max_iter=1000, random_state=42)\n",
        "for params in param_combinations:\n",
        "    # Set parameters for the model\n",
        "    param_dict = dict(zip(lr_param_grid.keys(), params))\n",
        "    model.set_params(**param_dict)\n",
        "\n",
        "    # Train and evaluate on the validation set\n",
        "    model.fit(X_train_tfidf, y_train)\n",
        "    y_valid_pred = model.predict(X_test_tfidf)\n",
        "    f1 = f1_score(y_test, y_valid_pred, average='micro', zero_division=0)\n",
        "    print(params,'     f1-score',f1)\n",
        "    if f1 > best_score:\n",
        "        best_score = f1\n",
        "        best_model = model\n",
        "        best_params = param_dict\n",
        "# Save individual models\n",
        "joblib.dump(best_model , f\"{save_dir}lr_model.pkl\")\n",
        "lr=best_model\n",
        "print(f\"Best parameters for {model.__class__.__name__}: {best_params}, F1-Score: {best_score:.4f}\")\n"
      ],
      "metadata": {
        "id": "hPDMkzScyJVt",
        "colab": {
          "base_uri": "https://localhost:8080/"
        },
        "outputId": "91f5b091-7bb6-4a36-eee9-ebea4cfeea5d"
      },
      "execution_count": null,
      "outputs": [
        {
          "output_type": "stream",
          "name": "stdout",
          "text": [
            "(0.1, 'l2', 'lbfgs')      f1-score 0.8638461538461538\n",
            "(0.1, 'l2', 'newton-cg')      f1-score 0.8646153846153846\n",
            "(1, 'l2', 'lbfgs')      f1-score 0.9492307692307692\n",
            "(1, 'l2', 'newton-cg')      f1-score 0.9492307692307692\n",
            "(10, 'l2', 'lbfgs')      f1-score 0.97\n",
            "(10, 'l2', 'newton-cg')      f1-score 0.9692307692307692\n",
            "Best parameters for LogisticRegression: {'C': 10, 'penalty': 'l2', 'solver': 'lbfgs'}, F1-Score: 0.9700\n"
          ]
        }
      ]
    },
    {
      "cell_type": "code",
      "source": [
        "print(f\"Best parameters for {model.__class__.__name__}: {best_params}, F1-Score: {best_score:.4f}\")"
      ],
      "metadata": {
        "colab": {
          "base_uri": "https://localhost:8080/"
        },
        "id": "L_SeKSkdWCG0",
        "outputId": "6d933322-ff89-4d80-c0bb-6e100726abbd"
      },
      "execution_count": null,
      "outputs": [
        {
          "output_type": "stream",
          "name": "stdout",
          "text": [
            "Best parameters for LogisticRegression: {'C': 10, 'penalty': 'l2', 'solver': 'lbfgs'}, F1-Score: 0.9462\n"
          ]
        }
      ]
    },
    {
      "cell_type": "code",
      "source": [
        "svm = joblib.load(\"{save_dir}svm_model.pkl\")"
      ],
      "metadata": {
        "id": "OTwukop8YEMU"
      },
      "execution_count": null,
      "outputs": []
    },
    {
      "cell_type": "code",
      "source": [
        "print(svm.get_params())\n",
        "print(lr.get_params())\n",
        "print(rf.get_params())"
      ],
      "metadata": {
        "colab": {
          "base_uri": "https://localhost:8080/"
        },
        "id": "gbzinVVlytT2",
        "outputId": "c2cf1e7f-cb5d-4127-c973-6c5a61874846"
      },
      "execution_count": null,
      "outputs": [
        {
          "output_type": "stream",
          "name": "stdout",
          "text": [
            "{'C': 10, 'break_ties': False, 'cache_size': 200, 'class_weight': None, 'coef0': 0.0, 'decision_function_shape': 'ovr', 'degree': 3, 'gamma': 'scale', 'kernel': 'rbf', 'max_iter': -1, 'probability': True, 'random_state': 42, 'shrinking': True, 'tol': 0.001, 'verbose': False}\n",
            "{'C': 10, 'class_weight': None, 'dual': False, 'fit_intercept': True, 'intercept_scaling': 1, 'l1_ratio': None, 'max_iter': 1000, 'multi_class': 'deprecated', 'n_jobs': None, 'penalty': 'l2', 'random_state': 42, 'solver': 'newton-cg', 'tol': 0.0001, 'verbose': 0, 'warm_start': False}\n",
            "{'bootstrap': True, 'ccp_alpha': 0.0, 'class_weight': None, 'criterion': 'gini', 'max_depth': 20, 'max_features': 'sqrt', 'max_leaf_nodes': None, 'max_samples': None, 'min_impurity_decrease': 0.0, 'min_samples_leaf': 2, 'min_samples_split': 5, 'min_weight_fraction_leaf': 0.0, 'monotonic_cst': None, 'n_estimators': 300, 'n_jobs': None, 'oob_score': False, 'random_state': 42, 'verbose': 0, 'warm_start': False}\n"
          ]
        }
      ]
    },
    {
      "cell_type": "code",
      "source": [],
      "metadata": {
        "id": "dy59JG8u2QnD"
      },
      "execution_count": null,
      "outputs": []
    },
    {
      "cell_type": "code",
      "source": [
        "ensemble1 = VotingClassifier(estimators=[\n",
        "    ('svm', svm),\n",
        "    ('rf', rf),\n",
        "    ('lr', lr)\n",
        "], voting='soft')  # 'soft' uses probabilities, 'hard' uses majority voting\n",
        "ensemble1.fit(X_train_tfidf, y_train)\n",
        "# Save the ensemble model\n",
        "joblib.dump(ensemble1, f\"{save_dir}ensemble_model1.pkl\")\n"
      ],
      "metadata": {
        "colab": {
          "base_uri": "https://localhost:8080/"
        },
        "outputId": "8de306d1-e6e7-4042-d001-a4747bc93380",
        "id": "wkqvzZ1x2RBp"
      },
      "execution_count": null,
      "outputs": [
        {
          "output_type": "execute_result",
          "data": {
            "text/plain": [
              "['/content/drive/MyDrive/Abreviation/CASI/mini/ensemble_model1.pkl']"
            ]
          },
          "metadata": {},
          "execution_count": 47
        }
      ]
    },
    {
      "cell_type": "code",
      "source": [
        "# Evaluate models\n",
        "def evaluate_model(model, X_test, y_test):\n",
        "    y_pred = model.predict(X_test)\n",
        "    accuracy = accuracy_score(y_test, y_pred)\n",
        "    precision = precision_score(y_test, y_pred, average='micro', zero_division=0)\n",
        "    recall = recall_score(y_test, y_pred, average='micro', zero_division=0)\n",
        "    f1 = f1_score(y_test, y_pred, average='micro', zero_division=0)\n",
        "    return accuracy, precision, recall, f1\n",
        "\n",
        "# Evaluate each model\n",
        "models = {'SVM': svm, 'Random Forest': rf, 'Logistic Regression': lr, 'Ensemble': ensemble1}\n",
        "print('\\nTest Set Evaluation:')\n",
        "for model_name, model in models.items():\n",
        "    accuracy, precision, recall, f1 = evaluate_model(model, X_test_tfidf, y_test)\n",
        "    print(f\"{model_name} - Accuracy: {accuracy:.4f}, Precision: {precision:.4f}, Recall: {recall:.4f}, F1-Score: {f1:.4f}\")\n",
        "\n",
        "print('\\nTrain Set Evaluation:')\n",
        "for model_name, model in models.items():\n",
        "    accuracy, precision, recall, f1 = evaluate_model(model, X_train_tfidf, y_train)\n",
        "    print(f\"{model_name} - Accuracy: {accuracy:.4f}, Precision: {precision:.4f}, Recall: {recall:.4f}, F1-Score: {f1:.4f}\")"
      ],
      "metadata": {
        "colab": {
          "base_uri": "https://localhost:8080/"
        },
        "outputId": "bbac1242-24b6-42ae-9826-97556eadb96a",
        "id": "i_qTuidh2RBq"
      },
      "execution_count": null,
      "outputs": [
        {
          "output_type": "stream",
          "name": "stdout",
          "text": [
            "\n",
            "Test Set Evaluation:\n",
            "SVM - Accuracy: 0.9631, Precision: 0.9631, Recall: 0.9631, F1-Score: 0.9631\n",
            "Random Forest - Accuracy: 0.9331, Precision: 0.9331, Recall: 0.9331, F1-Score: 0.9331\n",
            "Logistic Regression - Accuracy: 0.9692, Precision: 0.9692, Recall: 0.9692, F1-Score: 0.9692\n",
            "Ensemble - Accuracy: 0.9715, Precision: 0.9715, Recall: 0.9715, F1-Score: 0.9715\n",
            "\n",
            "Train Set Evaluation:\n",
            "SVM - Accuracy: 0.9996, Precision: 0.9996, Recall: 0.9996, F1-Score: 0.9996\n",
            "Random Forest - Accuracy: 0.9556, Precision: 0.9556, Recall: 0.9556, F1-Score: 0.9556\n",
            "Logistic Regression - Accuracy: 0.9994, Precision: 0.9994, Recall: 0.9994, F1-Score: 0.9994\n",
            "Ensemble - Accuracy: 0.9994, Precision: 0.9994, Recall: 0.9994, F1-Score: 0.9994\n"
          ]
        }
      ]
    },
    {
      "cell_type": "markdown",
      "source": [
        "#weighted"
      ],
      "metadata": {
        "id": "Zm9bOXJdhPQa"
      }
    },
    {
      "cell_type": "code",
      "source": [
        "# Evaluate models\n",
        "def evaluate_model(model, X_test, y_test):\n",
        "    y_pred = model.predict(X_test)\n",
        "    accuracy = accuracy_score(y_test, y_pred)\n",
        "    precision = precision_score(y_test, y_pred, average='weighted', zero_division=0)\n",
        "    recall = recall_score(y_test, y_pred, average='weighted', zero_division=0)\n",
        "    f1 = f1_score(y_test, y_pred, average='weighted', zero_division=0)\n",
        "    return accuracy, precision, recall, f1\n",
        "\n",
        "\n",
        "print('\\nTest Set Evaluation:')\n",
        "for model_name, model in models.items():\n",
        "    accuracy, precision, recall, f1 = evaluate_model(model, X_test_tfidf, y_test)\n",
        "    print(f\"{model_name} - Accuracy: {accuracy:.4f}, Precision: {precision:.4f}, Recall: {recall:.4f}, F1-Score: {f1:.4f}\")\n",
        "\n",
        "print('\\nTrain Set Evaluation:')\n",
        "for model_name, model in models.items():\n",
        "    accuracy, precision, recall, f1 = evaluate_model(model, X_train_tfidf, y_train)\n",
        "    print(f\"{model_name} - Accuracy: {accuracy:.4f}, Precision: {precision:.4f}, Recall: {recall:.4f}, F1-Score: {f1:.4f}\")"
      ],
      "metadata": {
        "colab": {
          "base_uri": "https://localhost:8080/"
        },
        "id": "m4JBSu2iRwE1",
        "outputId": "0c46b729-b252-4b11-eeaf-c5e00aca8365"
      },
      "execution_count": null,
      "outputs": [
        {
          "output_type": "stream",
          "name": "stdout",
          "text": [
            "\n",
            "Test Set Evaluation:\n",
            "SVM - Accuracy: 0.9631, Precision: 0.9605, Recall: 0.9631, F1-Score: 0.9574\n",
            "Random Forest - Accuracy: 0.9331, Precision: 0.9212, Recall: 0.9331, F1-Score: 0.9152\n",
            "Logistic Regression - Accuracy: 0.9692, Precision: 0.9660, Recall: 0.9692, F1-Score: 0.9651\n",
            "Ensemble - Accuracy: 0.9715, Precision: 0.9695, Recall: 0.9715, F1-Score: 0.9684\n",
            "\n",
            "Train Set Evaluation:\n",
            "SVM - Accuracy: 0.9996, Precision: 0.9996, Recall: 0.9996, F1-Score: 0.9996\n",
            "Random Forest - Accuracy: 0.9556, Precision: 0.9479, Recall: 0.9556, F1-Score: 0.9452\n",
            "Logistic Regression - Accuracy: 0.9994, Precision: 0.9994, Recall: 0.9994, F1-Score: 0.9994\n",
            "Ensemble - Accuracy: 0.9994, Precision: 0.9990, Recall: 0.9994, F1-Score: 0.9992\n"
          ]
        }
      ]
    },
    {
      "cell_type": "markdown",
      "source": [
        "#End"
      ],
      "metadata": {
        "id": "Fjal01mtgTuT"
      }
    }
  ],
  "metadata": {
    "colab": {
      "provenance": [],
      "machine_shape": "hm"
    },
    "kernelspec": {
      "display_name": "Python 3",
      "name": "python3"
    },
    "language_info": {
      "name": "python"
    }
  },
  "nbformat": 4,
  "nbformat_minor": 0
}